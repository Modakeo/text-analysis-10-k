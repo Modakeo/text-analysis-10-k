{
 "cells": [
  {
   "cell_type": "code",
   "execution_count": null,
   "metadata": {},
   "outputs": [],
   "source": [
    "# !rm -rf sec-edgar-filings\n",
    "# !rm -rf persis_dir\n",
    "# !du -sh persist_dir"
   ]
  },
  {
   "cell_type": "code",
   "execution_count": null,
   "metadata": {},
   "outputs": [],
   "source": [
    "# !pip install -r requirements.txt\n",
    "# !python download.py -after 2020\n",
    "# !python preprocess.py\n",
    "# !python embedding.py"
   ]
  },
  {
   "cell_type": "markdown",
   "metadata": {},
   "source": [
    "## API key\n",
    "Need to put OpenAI API key in the file `openai_api_key.txt` or set the environment variable `OPENAI_API_KEY` to the key."
   ]
  },
  {
   "cell_type": "markdown",
   "metadata": {},
   "source": [
    "## Download, clean, and create vector DB\n",
    "This can take 10 mins to finish."
   ]
  },
  {
   "cell_type": "code",
   "execution_count": null,
   "metadata": {},
   "outputs": [],
   "source": [
    "%%time\n",
    "# takes 10 mins\n",
    "!pip install -r requirements.txt\n",
    "!python building_vectordb.py"
   ]
  },
  {
   "cell_type": "code",
   "execution_count": null,
   "metadata": {},
   "outputs": [],
   "source": [
    "import pandas as pd \n",
    "import os\n",
    "import matplotlib.pyplot as plt\n",
    "import numpy as np\n",
    "\n",
    "import query_1\n",
    "import embedding\n",
    "\n",
    "\n",
    "from llama_index.core import load_index_from_storage\n",
    "from llama_index.core import StorageContext\n",
    "\n"
   ]
  },
  {
   "cell_type": "markdown",
   "metadata": {},
   "source": [
    "## Load Vector DB into memory\n",
    "This can take 5 mins to finish."
   ]
  },
  {
   "cell_type": "code",
   "execution_count": null,
   "metadata": {},
   "outputs": [],
   "source": [
    "persist_dir=\"persist_dir\"\n",
    "\n",
    "storage_context = StorageContext.from_defaults(persist_dir=persist_dir)\n",
    "index = load_index_from_storage(storage_context)"
   ]
  },
  {
   "cell_type": "markdown",
   "metadata": {},
   "source": [
    "##  Track some key fact in the anual report.\n",
    "This part will call chatgpt-3.5 many times."
   ]
  },
  {
   "cell_type": "code",
   "execution_count": null,
   "metadata": {},
   "outputs": [],
   "source": [
    "years = ['2018','2019','2020','2021','2022','2023']\n",
    "key_facts = ['R&D expense', 'net income', 'revenue']"
   ]
  },
  {
   "cell_type": "code",
   "execution_count": null,
   "metadata": {},
   "outputs": [],
   "source": [
    "ticker = 'AAPL'\n",
    "ss = []\n",
    "for key_fact in key_facts:\n",
    "    output = query_1.loop_query_1(index, ticker, years, key_fact)\n",
    "    s = pd.Series(output, name=key_fact)\n",
    "    ss.append(s)\n",
    "\n",
    "df = pd.concat(ss, axis=1)"
   ]
  },
  {
   "cell_type": "code",
   "execution_count": null,
   "metadata": {},
   "outputs": [],
   "source": [
    "for key_fact in key_facts:\n",
    "    df[key_fact+' increase'] = ((df[key_fact] - df[key_fact].shift(1)) / df[key_fact].shift(1)) * 100\n",
    "\n",
    "plt.figure(figsize=(10, 6))\n",
    "\n",
    "for key_fact in key_facts:\n",
    "    plt.plot(df.index, df[key_fact+' increase'], marker='o', label=key_fact)\n",
    "\n",
    "plt.xlabel('Year')\n",
    "plt.ylabel('Percentage')\n",
    "plt.title(f'{ticker} - Percentage Increase in Revenue, Net Income and R&D')\n",
    "plt.legend()\n",
    "plt.grid(True)\n",
    "plt.show()\n"
   ]
  },
  {
   "cell_type": "code",
   "execution_count": null,
   "metadata": {},
   "outputs": [],
   "source": [
    "ticker = 'MSFT'\n",
    "ss = []\n",
    "for key_fact in key_facts:\n",
    "    output = query_1.loop_query_1(index, ticker, years, key_fact)\n",
    "    s = pd.Series(output, name=key_fact)\n",
    "    ss.append(s)\n",
    "\n",
    "df = pd.concat(ss, axis=1)"
   ]
  },
  {
   "cell_type": "code",
   "execution_count": null,
   "metadata": {},
   "outputs": [],
   "source": [
    "for key_fact in key_facts:\n",
    "    df[key_fact+' increase'] = ((df[key_fact] - df[key_fact].shift(1)) / df[key_fact].shift(1)) * 100\n",
    "\n",
    "plt.figure(figsize=(10, 6))\n",
    "\n",
    "for key_fact in key_facts:\n",
    "    plt.plot(df.index, df[key_fact+' increase'], marker='o', label=key_fact)\n",
    "\n",
    "plt.xlabel('Year')\n",
    "plt.ylabel('Percentage')\n",
    "plt.title(f'{ticker} - Percentage Increase in Revenue, Net Income and R&D')\n",
    "plt.legend()\n",
    "plt.grid(True)\n",
    "plt.show()\n"
   ]
  }
 ],
 "metadata": {
  "kernelspec": {
   "display_name": "sec-10-k",
   "language": "python",
   "name": "python3"
  },
  "language_info": {
   "codemirror_mode": {
    "name": "ipython",
    "version": 3
   },
   "file_extension": ".py",
   "mimetype": "text/x-python",
   "name": "python",
   "nbconvert_exporter": "python",
   "pygments_lexer": "ipython3",
   "version": "3.11.9"
  }
 },
 "nbformat": 4,
 "nbformat_minor": 2
}
