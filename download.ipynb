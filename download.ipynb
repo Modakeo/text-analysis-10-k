{
 "cells": [
  {
   "cell_type": "code",
   "execution_count": null,
   "metadata": {},
   "outputs": [],
   "source": [
    "import os\n",
    "\n",
    "from sec_edgar_downloader import Downloader"
   ]
  },
  {
   "cell_type": "code",
   "execution_count": null,
   "metadata": {},
   "outputs": [],
   "source": [
    "edgar_fold = 'sec-edgar-filings'\n",
    "form_type = '10-K' #dl.supported_forms\n",
    "tickers = ['AAPL','MSFT','JPM','ADSK','IBM'] # dl.ticker_to_cik_mapping\n",
    "after_date = '1995-01-01'\n",
    "\n",
    "dl = Downloader(\"RandomName\", \"RandomEmail@domain.com\",'./')"
   ]
  },
  {
   "cell_type": "code",
   "execution_count": null,
   "metadata": {},
   "outputs": [],
   "source": [
    "for ticker in tickers:\n",
    "    dl.get(form_type, ticker, after=after_date)"
   ]
  },
  {
   "cell_type": "code",
   "execution_count": null,
   "metadata": {},
   "outputs": [],
   "source": [
    "for ticker in tickers:\n",
    "    names = [i for i in os.listdir(os.path.join(edgar_fold, ticker, form_type))]\n",
    "    names.sort(key=lambda x: int(x.split('-')[1]))\n",
    "    print(ticker, len(names))"
   ]
  },
  {
   "cell_type": "code",
   "execution_count": null,
   "metadata": {},
   "outputs": [],
   "source": [
    "os.path.join(edgar_fold, 'AAPL', '10-K', 'AAPL-10-K-2020.txt')"
   ]
  },
  {
   "cell_type": "code",
   "execution_count": null,
   "metadata": {},
   "outputs": [],
   "source": []
  },
  {
   "cell_type": "code",
   "execution_count": null,
   "metadata": {},
   "outputs": [],
   "source": []
  }
 ],
 "metadata": {
  "kernelspec": {
   "display_name": "sec-10-k",
   "language": "python",
   "name": "python3"
  },
  "language_info": {
   "codemirror_mode": {
    "name": "ipython",
    "version": 3
   },
   "file_extension": ".py",
   "mimetype": "text/x-python",
   "name": "python",
   "nbconvert_exporter": "python",
   "pygments_lexer": "ipython3",
   "version": "3.11.9"
  }
 },
 "nbformat": 4,
 "nbformat_minor": 2
}
