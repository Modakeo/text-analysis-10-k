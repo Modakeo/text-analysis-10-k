{
 "cells": [
  {
   "cell_type": "code",
   "execution_count": null,
   "metadata": {},
   "outputs": [],
   "source": [
    "\n",
    "import os\n",
    "\n",
    "import llama_index\n",
    "from llama_index.llms.openai import OpenAI\n",
    "from llama_index.embeddings.openai import OpenAIEmbedding\n",
    "from llama_index.core import SimpleDirectoryReader, VectorStoreIndex\n",
    "from llama_index.core.response.pprint_utils import pprint_response\n",
    "from llama_index.core.tools import QueryEngineTool, ToolMetadata\n",
    "from llama_index.core.query_engine import SubQuestionQueryEngine\n",
    "from llama_index.core import Settings\n",
    "from llama_index.core.node_parser import SentenceSplitter\n",
    "from bs4 import BeautifulSoup\n",
    "\n",
    "\n",
    " "
   ]
  },
  {
   "cell_type": "code",
   "execution_count": null,
   "metadata": {},
   "outputs": [],
   "source": [
    "edgar_fold = 'sec-edgar-filings'\n",
    "form_type = '10-K' #dl.supported_forms\n",
    "tickers = ['AAPL',] # 'MSFT','JPM','ADSK','IBM'] # dl.ticker_to_cik_mapping\n",
    "after_date = '2020-01-01' #"
   ]
  },
  {
   "cell_type": "code",
   "execution_count": null,
   "metadata": {},
   "outputs": [],
   "source": [
    "SYSTEM_MESSAGE = \"\"\"\n",
    "You are an expert financial analyst that always answers questions with the most relevant information using the tools at your disposal.\n",
    "These tools have information regarding companies that the user has expressed interest in.\n",
    "Here are some guidelines that you must follow:\n",
    "* For financial questions, you must use the tools to find the answer and then write a response.\n",
    "* Even if it seems like your tools won't be able to answer the question, you must still use them to find the most relevant information and insights. Not using them will appear as if you are not doing your job.\n",
    "* You may assume that the users financial questions are related to the documents they've selected.\n",
    "* For any user message that isn't related to financial analysis, respectfully decline to respond and suggest that the user ask a relevant question.\n",
    "* If your tools are unable to find an answer, you should say that you haven't found an answer but still relay any useful information the tools found.\n",
    "\n",
    "The tools at your disposal have access to the following SEC documents that the user has selected to discuss with you:\n",
    "{doc_titles}\n",
    "\n",
    "The current date is: {curr_date}\n",
    "\"\"\".strip()\n",
    "\n",
    "NODE_PARSER_CHUNK_SIZE = 512\n",
    "NODE_PARSER_CHUNK_OVERLAP = 10\n",
    "\n",
    "doc_titles = 'AAPL-10-K-2020'\n",
    "curr_date = '2024-05-01'\n",
    "\n",
    "llm_base = OpenAI(temperature=0, model=\"gpt-3.5-turbo-0125\", system_prompt=SYSTEM_MESSAGE.format(doc_titles=doc_titles, curr_date=curr_date))\n",
    "embed_llm = OpenAIEmbedding(temperature=0, model=\"text-embedding-3-small\")\n",
    "node_parser = SentenceSplitter.from_defaults(\n",
    "    chunk_size=NODE_PARSER_CHUNK_SIZE,\n",
    "    chunk_overlap=NODE_PARSER_CHUNK_OVERLAP,\n",
    "    # callback_manager=callback_manager,\n",
    ")\n",
    "\n",
    "\n",
    "Settings.llm = llm_base\n",
    "Settings.embed_model = embed_llm\n",
    "# Settings.node_parser = node_parser\n"
   ]
  },
  {
   "cell_type": "code",
   "execution_count": null,
   "metadata": {},
   "outputs": [],
   "source": [
    "os.listdir(os.path.join(edgar_fold,tickers[0],form_type))"
   ]
  },
  {
   "cell_type": "code",
   "execution_count": null,
   "metadata": {},
   "outputs": [],
   "source": [
    "from bs4 import BeautifulSoup\n"
   ]
  },
  {
   "cell_type": "code",
   "execution_count": null,
   "metadata": {},
   "outputs": [],
   "source": [
    "with open(os.path.join(edgar_fold,tickers[0],form_type, 'AAPL-10-K-2020.txt'), 'r') as f:\n",
    "    contents = f.read()\n",
    "    tags_to_close = ['TYPE']\n",
    "    for tag in tags_to_close:\n",
    "        contents_2 = contents.replace(f'<{tag}>', f'<{tag}>').replace(f'\\n<{tag}>', f'</{tag}>\\n<{tag}>')\n",
    "\n",
    "    # Now load the pre-processed content into BeautifulSoup\n",
    "    soup_2 = BeautifulSoup(contents_2, 'lxml')"
   ]
  },
  {
   "cell_type": "code",
   "execution_count": null,
   "metadata": {},
   "outputs": [],
   "source": [
    "soup_2[:1000]"
   ]
  },
  {
   "cell_type": "code",
   "execution_count": null,
   "metadata": {},
   "outputs": [],
   "source": [
    "for document in documents:\n",
    "    type_tag = document.find('type')\n",
    "    print(type_tag)"
   ]
  },
  {
   "cell_type": "code",
   "execution_count": null,
   "metadata": {},
   "outputs": [],
   "source": [
    "with open(os.path.join(edgar_fold,tickers[0],form_type, 'AAPL-10-K-2020.txt'), 'r') as f:\n",
    "    contents = f.read()\n",
    "    soup = BeautifulSoup(contents, 'lxml')"
   ]
  },
  {
   "cell_type": "code",
   "execution_count": null,
   "metadata": {},
   "outputs": [],
   "source": [
    "documents = soup.find_all('document')"
   ]
  },
  {
   "cell_type": "code",
   "execution_count": null,
   "metadata": {},
   "outputs": [],
   "source": [
    "for document in documents:\n",
    "    type_tag = document.find('type')\n",
    "    print(type_tag)\n",
    "    # if type_tag and type_tag.get_text(strip=True).lower() == '10-k':\n",
    "    #     print(\"Found a 10-K document:\")\n",
    "    #     filename = document.find('filename').get_text(strip=True) if document.find('filename') else \"No filename\"\n",
    "    #     print(\"Filename:\", filename)\n",
    "    #     text_content = document.find('text').get_text(strip=True) if document.find('text') else \"No text content\"\n",
    "    #     print(\"Content:\", text_content)"
   ]
  },
  {
   "cell_type": "code",
   "execution_count": null,
   "metadata": {},
   "outputs": [],
   "source": [
    "if type_tag and type_tag.get_text(strip=True).lower() == '10-k':\n",
    "    print(\"Found a 10-K document:\")"
   ]
  },
  {
   "cell_type": "code",
   "execution_count": null,
   "metadata": {},
   "outputs": [],
   "source": []
  },
  {
   "cell_type": "code",
   "execution_count": null,
   "metadata": {},
   "outputs": [],
   "source": []
  },
  {
   "cell_type": "code",
   "execution_count": null,
   "metadata": {},
   "outputs": [],
   "source": [
    "AAPL_docs = SimpleDirectoryReader(input_dir=os.path.join(edgar_fold,tickers[0],form_type)).load_data()\n"
   ]
  },
  {
   "cell_type": "code",
   "execution_count": null,
   "metadata": {},
   "outputs": [],
   "source": [
    "print(f'Loaded AAPL 10-K with {len(AAPL_docs)} pages')\n"
   ]
  },
  {
   "cell_type": "code",
   "execution_count": null,
   "metadata": {},
   "outputs": [],
   "source": [
    "dir(AAPL_docs[0])"
   ]
  },
  {
   "cell_type": "code",
   "execution_count": null,
   "metadata": {},
   "outputs": [],
   "source": [
    "AAPL_docs[0].text[:1000]"
   ]
  },
  {
   "cell_type": "code",
   "execution_count": null,
   "metadata": {},
   "outputs": [],
   "source": [
    "nodes = node_parser.get_nodes_from_documents(AAPL_docs)\n"
   ]
  },
  {
   "cell_type": "code",
   "execution_count": null,
   "metadata": {},
   "outputs": [],
   "source": [
    "len(nodes[0].text)"
   ]
  },
  {
   "cell_type": "code",
   "execution_count": null,
   "metadata": {},
   "outputs": [],
   "source": [
    "len(nodes)"
   ]
  },
  {
   "cell_type": "code",
   "execution_count": null,
   "metadata": {},
   "outputs": [],
   "source": [
    "# lyft_index = VectorStoreIndex.from_documents(AAPL_docs)\n"
   ]
  },
  {
   "cell_type": "code",
   "execution_count": null,
   "metadata": {},
   "outputs": [],
   "source": [
    "AAPL_docs"
   ]
  },
  {
   "cell_type": "code",
   "execution_count": null,
   "metadata": {},
   "outputs": [],
   "source": [
    "type(AAPL_docs[0])"
   ]
  },
  {
   "cell_type": "code",
   "execution_count": null,
   "metadata": {},
   "outputs": [],
   "source": [
    "AAPL_docs[0]"
   ]
  },
  {
   "cell_type": "code",
   "execution_count": null,
   "metadata": {},
   "outputs": [],
   "source": []
  }
 ],
 "metadata": {
  "kernelspec": {
   "display_name": "sec-10-k",
   "language": "python",
   "name": "python3"
  },
  "language_info": {
   "codemirror_mode": {
    "name": "ipython",
    "version": 3
   },
   "file_extension": ".py",
   "mimetype": "text/x-python",
   "name": "python",
   "nbconvert_exporter": "python",
   "pygments_lexer": "ipython3",
   "version": "3.11.9"
  }
 },
 "nbformat": 4,
 "nbformat_minor": 2
}
